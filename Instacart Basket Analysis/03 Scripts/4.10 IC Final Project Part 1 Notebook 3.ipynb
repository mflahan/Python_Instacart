{
 "cells": [
  {
   "cell_type": "markdown",
   "id": "ac36b3fa",
   "metadata": {},
   "source": [
    "# Table of Contents\n",
    "#### Import libraries\n",
    "#### Import dataset\n",
    "#### Busiest days of week calculation and visualization\n",
    "#### Highest spending per time of day calculation and visualization\n",
    "#### Create simpler price groupings\n",
    "#### Analysis of customer profiles with ordering habits"
   ]
  },
  {
   "cell_type": "code",
   "execution_count": 1,
   "id": "d9d3f3a7",
   "metadata": {},
   "outputs": [],
   "source": [
    "#Import libraries\n",
    "import pandas as pd\n",
    "import numpy as np\n",
    "import os\n",
    "import matplotlib.pyplot as plt\n",
    "import seaborn as sns\n",
    "import scipy"
   ]
  },
  {
   "cell_type": "code",
   "execution_count": 2,
   "id": "bec3ba4a",
   "metadata": {},
   "outputs": [],
   "source": [
    "#Define path\n",
    "path = r'C:\\Users\\cschm\\Desktop\\CareerFoundry\\Achievement 4\\Instacart Basket Analysis'"
   ]
  },
  {
   "cell_type": "code",
   "execution_count": 3,
   "id": "9ccaa4b6",
   "metadata": {},
   "outputs": [],
   "source": [
    "#Import dataset\n",
    "df = pd.read_pickle(os.path.join(path, '02 Data', 'Prepared Data', 'orders_products_customers_active.pkl'))"
   ]
  },
  {
   "cell_type": "code",
   "execution_count": 4,
   "id": "abc182a8",
   "metadata": {},
   "outputs": [
    {
     "data": {
      "text/plain": [
       "(30964564, 35)"
      ]
     },
     "execution_count": 4,
     "metadata": {},
     "output_type": "execute_result"
    }
   ],
   "source": [
    "df.shape"
   ]
  },
  {
   "cell_type": "code",
   "execution_count": 5,
   "id": "bd7da2bb",
   "metadata": {},
   "outputs": [],
   "source": [
    "#Remove column limits for full view\n",
    "pd.options.display.max_columns = None"
   ]
  },
  {
   "cell_type": "code",
   "execution_count": 6,
   "id": "db6127c5",
   "metadata": {},
   "outputs": [
    {
     "data": {
      "text/html": [
       "<div>\n",
       "<style scoped>\n",
       "    .dataframe tbody tr th:only-of-type {\n",
       "        vertical-align: middle;\n",
       "    }\n",
       "\n",
       "    .dataframe tbody tr th {\n",
       "        vertical-align: top;\n",
       "    }\n",
       "\n",
       "    .dataframe thead th {\n",
       "        text-align: right;\n",
       "    }\n",
       "</style>\n",
       "<table border=\"1\" class=\"dataframe\">\n",
       "  <thead>\n",
       "    <tr style=\"text-align: right;\">\n",
       "      <th></th>\n",
       "      <th>user_id</th>\n",
       "      <th>Gender</th>\n",
       "      <th>STATE</th>\n",
       "      <th>Age</th>\n",
       "      <th>date_joined</th>\n",
       "      <th>number_dependants</th>\n",
       "      <th>fam_status</th>\n",
       "      <th>income</th>\n",
       "      <th>product_id</th>\n",
       "      <th>product_name</th>\n",
       "      <th>aisle_id</th>\n",
       "      <th>department_id</th>\n",
       "      <th>prices</th>\n",
       "      <th>order_id</th>\n",
       "      <th>order_number</th>\n",
       "      <th>orders_day_of_week</th>\n",
       "      <th>order_hour_of_day</th>\n",
       "      <th>days_since_prior_order</th>\n",
       "      <th>add_to_cart_order</th>\n",
       "      <th>reordered</th>\n",
       "      <th>price_range_loc</th>\n",
       "      <th>Busiest day</th>\n",
       "      <th>Busiest days</th>\n",
       "      <th>busiest_period_of_day</th>\n",
       "      <th>max_order</th>\n",
       "      <th>loyalty_flag</th>\n",
       "      <th>spender_flag</th>\n",
       "      <th>order_frequency</th>\n",
       "      <th>order_freq_flag</th>\n",
       "      <th>avg_spend</th>\n",
       "      <th>Region</th>\n",
       "      <th>department</th>\n",
       "      <th>age_range</th>\n",
       "      <th>income_range</th>\n",
       "      <th>parental_status</th>\n",
       "    </tr>\n",
       "  </thead>\n",
       "  <tbody>\n",
       "    <tr>\n",
       "      <th>0</th>\n",
       "      <td>26711</td>\n",
       "      <td>Female</td>\n",
       "      <td>Missouri</td>\n",
       "      <td>48</td>\n",
       "      <td>1/1/2017</td>\n",
       "      <td>3</td>\n",
       "      <td>married</td>\n",
       "      <td>165665</td>\n",
       "      <td>196</td>\n",
       "      <td>Soda</td>\n",
       "      <td>77</td>\n",
       "      <td>7</td>\n",
       "      <td>9.0</td>\n",
       "      <td>2543867</td>\n",
       "      <td>5</td>\n",
       "      <td>1</td>\n",
       "      <td>9</td>\n",
       "      <td>30.0</td>\n",
       "      <td>2</td>\n",
       "      <td>0</td>\n",
       "      <td>Mid-range product</td>\n",
       "      <td>Regularly busy</td>\n",
       "      <td>Busiest days</td>\n",
       "      <td>Most orders</td>\n",
       "      <td>8</td>\n",
       "      <td>New customer</td>\n",
       "      <td>Low spender</td>\n",
       "      <td>19.0</td>\n",
       "      <td>Regular customer</td>\n",
       "      <td>7.988889</td>\n",
       "      <td>Midwest</td>\n",
       "      <td>beverages</td>\n",
       "      <td>Middle-age</td>\n",
       "      <td>High</td>\n",
       "      <td>Parent</td>\n",
       "    </tr>\n",
       "    <tr>\n",
       "      <th>1</th>\n",
       "      <td>26711</td>\n",
       "      <td>Female</td>\n",
       "      <td>Missouri</td>\n",
       "      <td>48</td>\n",
       "      <td>1/1/2017</td>\n",
       "      <td>3</td>\n",
       "      <td>married</td>\n",
       "      <td>165665</td>\n",
       "      <td>196</td>\n",
       "      <td>Soda</td>\n",
       "      <td>77</td>\n",
       "      <td>7</td>\n",
       "      <td>9.0</td>\n",
       "      <td>1285508</td>\n",
       "      <td>7</td>\n",
       "      <td>5</td>\n",
       "      <td>15</td>\n",
       "      <td>11.0</td>\n",
       "      <td>1</td>\n",
       "      <td>1</td>\n",
       "      <td>Mid-range product</td>\n",
       "      <td>Regularly busy</td>\n",
       "      <td>Regularly busy</td>\n",
       "      <td>Most orders</td>\n",
       "      <td>8</td>\n",
       "      <td>New customer</td>\n",
       "      <td>Low spender</td>\n",
       "      <td>19.0</td>\n",
       "      <td>Regular customer</td>\n",
       "      <td>7.988889</td>\n",
       "      <td>Midwest</td>\n",
       "      <td>beverages</td>\n",
       "      <td>Middle-age</td>\n",
       "      <td>High</td>\n",
       "      <td>Parent</td>\n",
       "    </tr>\n",
       "    <tr>\n",
       "      <th>2</th>\n",
       "      <td>26711</td>\n",
       "      <td>Female</td>\n",
       "      <td>Missouri</td>\n",
       "      <td>48</td>\n",
       "      <td>1/1/2017</td>\n",
       "      <td>3</td>\n",
       "      <td>married</td>\n",
       "      <td>165665</td>\n",
       "      <td>196</td>\n",
       "      <td>Soda</td>\n",
       "      <td>77</td>\n",
       "      <td>7</td>\n",
       "      <td>9.0</td>\n",
       "      <td>2578584</td>\n",
       "      <td>8</td>\n",
       "      <td>1</td>\n",
       "      <td>15</td>\n",
       "      <td>10.0</td>\n",
       "      <td>2</td>\n",
       "      <td>1</td>\n",
       "      <td>Mid-range product</td>\n",
       "      <td>Regularly busy</td>\n",
       "      <td>Busiest days</td>\n",
       "      <td>Most orders</td>\n",
       "      <td>8</td>\n",
       "      <td>New customer</td>\n",
       "      <td>Low spender</td>\n",
       "      <td>19.0</td>\n",
       "      <td>Regular customer</td>\n",
       "      <td>7.988889</td>\n",
       "      <td>Midwest</td>\n",
       "      <td>beverages</td>\n",
       "      <td>Middle-age</td>\n",
       "      <td>High</td>\n",
       "      <td>Parent</td>\n",
       "    </tr>\n",
       "    <tr>\n",
       "      <th>3</th>\n",
       "      <td>26711</td>\n",
       "      <td>Female</td>\n",
       "      <td>Missouri</td>\n",
       "      <td>48</td>\n",
       "      <td>1/1/2017</td>\n",
       "      <td>3</td>\n",
       "      <td>married</td>\n",
       "      <td>165665</td>\n",
       "      <td>6184</td>\n",
       "      <td>Clementines</td>\n",
       "      <td>32</td>\n",
       "      <td>4</td>\n",
       "      <td>4.3</td>\n",
       "      <td>518967</td>\n",
       "      <td>1</td>\n",
       "      <td>2</td>\n",
       "      <td>9</td>\n",
       "      <td>NaN</td>\n",
       "      <td>1</td>\n",
       "      <td>0</td>\n",
       "      <td>Low-range product</td>\n",
       "      <td>Regularly busy</td>\n",
       "      <td>Regularly busy</td>\n",
       "      <td>Most orders</td>\n",
       "      <td>8</td>\n",
       "      <td>New customer</td>\n",
       "      <td>Low spender</td>\n",
       "      <td>19.0</td>\n",
       "      <td>Regular customer</td>\n",
       "      <td>7.988889</td>\n",
       "      <td>Midwest</td>\n",
       "      <td>produce</td>\n",
       "      <td>Middle-age</td>\n",
       "      <td>High</td>\n",
       "      <td>Parent</td>\n",
       "    </tr>\n",
       "    <tr>\n",
       "      <th>4</th>\n",
       "      <td>26711</td>\n",
       "      <td>Female</td>\n",
       "      <td>Missouri</td>\n",
       "      <td>48</td>\n",
       "      <td>1/1/2017</td>\n",
       "      <td>3</td>\n",
       "      <td>married</td>\n",
       "      <td>165665</td>\n",
       "      <td>6184</td>\n",
       "      <td>Clementines</td>\n",
       "      <td>32</td>\n",
       "      <td>4</td>\n",
       "      <td>4.3</td>\n",
       "      <td>2524893</td>\n",
       "      <td>3</td>\n",
       "      <td>3</td>\n",
       "      <td>11</td>\n",
       "      <td>30.0</td>\n",
       "      <td>2</td>\n",
       "      <td>1</td>\n",
       "      <td>Low-range product</td>\n",
       "      <td>Regularly busy</td>\n",
       "      <td>Least busy</td>\n",
       "      <td>Most orders</td>\n",
       "      <td>8</td>\n",
       "      <td>New customer</td>\n",
       "      <td>Low spender</td>\n",
       "      <td>19.0</td>\n",
       "      <td>Regular customer</td>\n",
       "      <td>7.988889</td>\n",
       "      <td>Midwest</td>\n",
       "      <td>produce</td>\n",
       "      <td>Middle-age</td>\n",
       "      <td>High</td>\n",
       "      <td>Parent</td>\n",
       "    </tr>\n",
       "  </tbody>\n",
       "</table>\n",
       "</div>"
      ],
      "text/plain": [
       "   user_id  Gender     STATE  Age date_joined  number_dependants fam_status  \\\n",
       "0    26711  Female  Missouri   48    1/1/2017                  3    married   \n",
       "1    26711  Female  Missouri   48    1/1/2017                  3    married   \n",
       "2    26711  Female  Missouri   48    1/1/2017                  3    married   \n",
       "3    26711  Female  Missouri   48    1/1/2017                  3    married   \n",
       "4    26711  Female  Missouri   48    1/1/2017                  3    married   \n",
       "\n",
       "   income  product_id product_name  aisle_id  department_id  prices  order_id  \\\n",
       "0  165665         196         Soda        77              7     9.0   2543867   \n",
       "1  165665         196         Soda        77              7     9.0   1285508   \n",
       "2  165665         196         Soda        77              7     9.0   2578584   \n",
       "3  165665        6184  Clementines        32              4     4.3    518967   \n",
       "4  165665        6184  Clementines        32              4     4.3   2524893   \n",
       "\n",
       "   order_number  orders_day_of_week  order_hour_of_day  \\\n",
       "0             5                   1                  9   \n",
       "1             7                   5                 15   \n",
       "2             8                   1                 15   \n",
       "3             1                   2                  9   \n",
       "4             3                   3                 11   \n",
       "\n",
       "   days_since_prior_order  add_to_cart_order  reordered    price_range_loc  \\\n",
       "0                    30.0                  2          0  Mid-range product   \n",
       "1                    11.0                  1          1  Mid-range product   \n",
       "2                    10.0                  2          1  Mid-range product   \n",
       "3                     NaN                  1          0  Low-range product   \n",
       "4                    30.0                  2          1  Low-range product   \n",
       "\n",
       "      Busiest day    Busiest days busiest_period_of_day  max_order  \\\n",
       "0  Regularly busy    Busiest days           Most orders          8   \n",
       "1  Regularly busy  Regularly busy           Most orders          8   \n",
       "2  Regularly busy    Busiest days           Most orders          8   \n",
       "3  Regularly busy  Regularly busy           Most orders          8   \n",
       "4  Regularly busy      Least busy           Most orders          8   \n",
       "\n",
       "   loyalty_flag spender_flag  order_frequency   order_freq_flag  avg_spend  \\\n",
       "0  New customer  Low spender             19.0  Regular customer   7.988889   \n",
       "1  New customer  Low spender             19.0  Regular customer   7.988889   \n",
       "2  New customer  Low spender             19.0  Regular customer   7.988889   \n",
       "3  New customer  Low spender             19.0  Regular customer   7.988889   \n",
       "4  New customer  Low spender             19.0  Regular customer   7.988889   \n",
       "\n",
       "    Region department   age_range income_range parental_status  \n",
       "0  Midwest  beverages  Middle-age         High          Parent  \n",
       "1  Midwest  beverages  Middle-age         High          Parent  \n",
       "2  Midwest  beverages  Middle-age         High          Parent  \n",
       "3  Midwest    produce  Middle-age         High          Parent  \n",
       "4  Midwest    produce  Middle-age         High          Parent  "
      ]
     },
     "execution_count": 6,
     "metadata": {},
     "output_type": "execute_result"
    }
   ],
   "source": [
    "df.head()"
   ]
  },
  {
   "cell_type": "code",
   "execution_count": 7,
   "id": "ef3b25bb",
   "metadata": {},
   "outputs": [
    {
     "data": {
      "text/plain": [
       "orders_day_of_week\n",
       "0    5908610\n",
       "1    5411686\n",
       "6    4291304\n",
       "5    4033729\n",
       "2    4024706\n",
       "3    3669535\n",
       "4    3624994\n",
       "Name: count, dtype: int64"
      ]
     },
     "execution_count": 7,
     "metadata": {},
     "output_type": "execute_result"
    }
   ],
   "source": [
    "#Look at frequency of orders day of week variable\n",
    "df['orders_day_of_week'].value_counts(dropna = False)"
   ]
  },
  {
   "cell_type": "code",
   "execution_count": 8,
   "id": "3642c725",
   "metadata": {},
   "outputs": [
    {
     "data": {
      "text/plain": [
       "Text(0.5, 1.0, 'Instacart Orders by Day of the Week')"
      ]
     },
     "execution_count": 8,
     "metadata": {},
     "output_type": "execute_result"
    },
    {
     "data": {
      "image/png": "[encoded data removed]",
      "text/plain": [
       "<Figure size 640x480 with 1 Axes>"
      ]
     },
     "metadata": {},
     "output_type": "display_data"
    }
   ],
   "source": [
    "#Create bar chart of orders day of week frequency\n",
    "bar = df['orders_day_of_week'].value_counts().sort_index().plot.bar()\n",
    "plt.title('Instacart Orders by Day of the Week')"
   ]
  },
  {
   "cell_type": "code",
   "execution_count": 9,
   "id": "ce81519d",
   "metadata": {},
   "outputs": [],
   "source": [
    "#Export bar chart as png\n",
    "bar.figure.savefig(os.path.join(path, '04 Analysis','Visualizations', 'bar_orders_day_of_week.png'))"
   ]
  },
  {
   "cell_type": "markdown",
   "id": "b7490b5c",
   "metadata": {},
   "source": [
    "##### Create new variable 'order_totals\" in order to plot line graph of average total spending by hour of the day"
   ]
  },
  {
   "cell_type": "code",
   "execution_count": 4,
   "id": "3678b1d2",
   "metadata": {},
   "outputs": [],
   "source": [
    "#Create order total variable\n",
    "df['order_totals'] = df.groupby('order_id')['prices'].sum()"
   ]
  },
  {
   "cell_type": "code",
   "execution_count": 37,
   "id": "d8bbcbd4",
   "metadata": {},
   "outputs": [
    {
     "data": {
      "text/html": [
       "<div>\n",
       "<style scoped>\n",
       "    .dataframe tbody tr th:only-of-type {\n",
       "        vertical-align: middle;\n",
       "    }\n",
       "\n",
       "    .dataframe tbody tr th {\n",
       "        vertical-align: top;\n",
       "    }\n",
       "\n",
       "    .dataframe thead th {\n",
       "        text-align: right;\n",
       "    }\n",
       "</style>\n",
       "<table border=\"1\" class=\"dataframe\">\n",
       "  <thead>\n",
       "    <tr style=\"text-align: right;\">\n",
       "      <th></th>\n",
       "      <th>user_id</th>\n",
       "      <th>Gender</th>\n",
       "      <th>STATE</th>\n",
       "      <th>Age</th>\n",
       "      <th>date_joined</th>\n",
       "      <th>number_dependants</th>\n",
       "      <th>fam_status</th>\n",
       "      <th>income</th>\n",
       "      <th>product_id</th>\n",
       "      <th>product_name</th>\n",
       "      <th>aisle_id</th>\n",
       "      <th>department_id</th>\n",
       "      <th>prices</th>\n",
       "      <th>order_id</th>\n",
       "      <th>order_number</th>\n",
       "      <th>orders_day_of_week</th>\n",
       "      <th>order_hour_of_day</th>\n",
       "      <th>days_since_prior_order</th>\n",
       "      <th>add_to_cart_order</th>\n",
       "      <th>reordered</th>\n",
       "      <th>price_range_loc</th>\n",
       "      <th>Busiest day</th>\n",
       "      <th>Busiest days</th>\n",
       "      <th>busiest_period_of_day</th>\n",
       "      <th>max_order</th>\n",
       "      <th>loyalty_flag</th>\n",
       "      <th>spender_flag</th>\n",
       "      <th>order_frequency</th>\n",
       "      <th>order_freq_flag</th>\n",
       "      <th>avg_spend</th>\n",
       "      <th>Region</th>\n",
       "      <th>department</th>\n",
       "      <th>age_range</th>\n",
       "      <th>income_range</th>\n",
       "      <th>parental_status</th>\n",
       "      <th>order_totals</th>\n",
       "    </tr>\n",
       "  </thead>\n",
       "  <tbody>\n",
       "    <tr>\n",
       "      <th>0</th>\n",
       "      <td>26711</td>\n",
       "      <td>Female</td>\n",
       "      <td>Missouri</td>\n",
       "      <td>48</td>\n",
       "      <td>1/1/2017</td>\n",
       "      <td>3</td>\n",
       "      <td>married</td>\n",
       "      <td>165665</td>\n",
       "      <td>196</td>\n",
       "      <td>Soda</td>\n",
       "      <td>77</td>\n",
       "      <td>7</td>\n",
       "      <td>9.0</td>\n",
       "      <td>2543867</td>\n",
       "      <td>5</td>\n",
       "      <td>1</td>\n",
       "      <td>9</td>\n",
       "      <td>30.0</td>\n",
       "      <td>2</td>\n",
       "      <td>0</td>\n",
       "      <td>Mid-range product</td>\n",
       "      <td>Regularly busy</td>\n",
       "      <td>Busiest days</td>\n",
       "      <td>Most orders</td>\n",
       "      <td>8</td>\n",
       "      <td>New customer</td>\n",
       "      <td>Low spender</td>\n",
       "      <td>19.0</td>\n",
       "      <td>Regular customer</td>\n",
       "      <td>7.988889</td>\n",
       "      <td>Midwest</td>\n",
       "      <td>beverages</td>\n",
       "      <td>Middle-age</td>\n",
       "      <td>High</td>\n",
       "      <td>Parent</td>\n",
       "      <td>NaN</td>\n",
       "    </tr>\n",
       "    <tr>\n",
       "      <th>1</th>\n",
       "      <td>26711</td>\n",
       "      <td>Female</td>\n",
       "      <td>Missouri</td>\n",
       "      <td>48</td>\n",
       "      <td>1/1/2017</td>\n",
       "      <td>3</td>\n",
       "      <td>married</td>\n",
       "      <td>165665</td>\n",
       "      <td>196</td>\n",
       "      <td>Soda</td>\n",
       "      <td>77</td>\n",
       "      <td>7</td>\n",
       "      <td>9.0</td>\n",
       "      <td>1285508</td>\n",
       "      <td>7</td>\n",
       "      <td>5</td>\n",
       "      <td>15</td>\n",
       "      <td>11.0</td>\n",
       "      <td>1</td>\n",
       "      <td>1</td>\n",
       "      <td>Mid-range product</td>\n",
       "      <td>Regularly busy</td>\n",
       "      <td>Regularly busy</td>\n",
       "      <td>Most orders</td>\n",
       "      <td>8</td>\n",
       "      <td>New customer</td>\n",
       "      <td>Low spender</td>\n",
       "      <td>19.0</td>\n",
       "      <td>Regular customer</td>\n",
       "      <td>7.988889</td>\n",
       "      <td>Midwest</td>\n",
       "      <td>beverages</td>\n",
       "      <td>Middle-age</td>\n",
       "      <td>High</td>\n",
       "      <td>Parent</td>\n",
       "      <td>NaN</td>\n",
       "    </tr>\n",
       "    <tr>\n",
       "      <th>2</th>\n",
       "      <td>26711</td>\n",
       "      <td>Female</td>\n",
       "      <td>Missouri</td>\n",
       "      <td>48</td>\n",
       "      <td>1/1/2017</td>\n",
       "      <td>3</td>\n",
       "      <td>married</td>\n",
       "      <td>165665</td>\n",
       "      <td>196</td>\n",
       "      <td>Soda</td>\n",
       "      <td>77</td>\n",
       "      <td>7</td>\n",
       "      <td>9.0</td>\n",
       "      <td>2578584</td>\n",
       "      <td>8</td>\n",
       "      <td>1</td>\n",
       "      <td>15</td>\n",
       "      <td>10.0</td>\n",
       "      <td>2</td>\n",
       "      <td>1</td>\n",
       "      <td>Mid-range product</td>\n",
       "      <td>Regularly busy</td>\n",
       "      <td>Busiest days</td>\n",
       "      <td>Most orders</td>\n",
       "      <td>8</td>\n",
       "      <td>New customer</td>\n",
       "      <td>Low spender</td>\n",
       "      <td>19.0</td>\n",
       "      <td>Regular customer</td>\n",
       "      <td>7.988889</td>\n",
       "      <td>Midwest</td>\n",
       "      <td>beverages</td>\n",
       "      <td>Middle-age</td>\n",
       "      <td>High</td>\n",
       "      <td>Parent</td>\n",
       "      <td>91.6</td>\n",
       "    </tr>\n",
       "    <tr>\n",
       "      <th>3</th>\n",
       "      <td>26711</td>\n",
       "      <td>Female</td>\n",
       "      <td>Missouri</td>\n",
       "      <td>48</td>\n",
       "      <td>1/1/2017</td>\n",
       "      <td>3</td>\n",
       "      <td>married</td>\n",
       "      <td>165665</td>\n",
       "      <td>6184</td>\n",
       "      <td>Clementines</td>\n",
       "      <td>32</td>\n",
       "      <td>4</td>\n",
       "      <td>4.3</td>\n",
       "      <td>518967</td>\n",
       "      <td>1</td>\n",
       "      <td>2</td>\n",
       "      <td>9</td>\n",
       "      <td>NaN</td>\n",
       "      <td>1</td>\n",
       "      <td>0</td>\n",
       "      <td>Low-range product</td>\n",
       "      <td>Regularly busy</td>\n",
       "      <td>Regularly busy</td>\n",
       "      <td>Most orders</td>\n",
       "      <td>8</td>\n",
       "      <td>New customer</td>\n",
       "      <td>Low spender</td>\n",
       "      <td>19.0</td>\n",
       "      <td>Regular customer</td>\n",
       "      <td>7.988889</td>\n",
       "      <td>Midwest</td>\n",
       "      <td>produce</td>\n",
       "      <td>Middle-age</td>\n",
       "      <td>High</td>\n",
       "      <td>Parent</td>\n",
       "      <td>70.3</td>\n",
       "    </tr>\n",
       "    <tr>\n",
       "      <th>4</th>\n",
       "      <td>26711</td>\n",
       "      <td>Female</td>\n",
       "      <td>Missouri</td>\n",
       "      <td>48</td>\n",
       "      <td>1/1/2017</td>\n",
       "      <td>3</td>\n",
       "      <td>married</td>\n",
       "      <td>165665</td>\n",
       "      <td>6184</td>\n",
       "      <td>Clementines</td>\n",
       "      <td>32</td>\n",
       "      <td>4</td>\n",
       "      <td>4.3</td>\n",
       "      <td>2524893</td>\n",
       "      <td>3</td>\n",
       "      <td>3</td>\n",
       "      <td>11</td>\n",
       "      <td>30.0</td>\n",
       "      <td>2</td>\n",
       "      <td>1</td>\n",
       "      <td>Low-range product</td>\n",
       "      <td>Regularly busy</td>\n",
       "      <td>Least busy</td>\n",
       "      <td>Most orders</td>\n",
       "      <td>8</td>\n",
       "      <td>New customer</td>\n",
       "      <td>Low spender</td>\n",
       "      <td>19.0</td>\n",
       "      <td>Regular customer</td>\n",
       "      <td>7.988889</td>\n",
       "      <td>Midwest</td>\n",
       "      <td>produce</td>\n",
       "      <td>Middle-age</td>\n",
       "      <td>High</td>\n",
       "      <td>Parent</td>\n",
       "      <td>92.8</td>\n",
       "    </tr>\n",
       "  </tbody>\n",
       "</table>\n",
       "</div>"
      ],
      "text/plain": [
       "   user_id  Gender     STATE  Age date_joined  number_dependants fam_status  \\\n",
       "0    26711  Female  Missouri   48    1/1/2017                  3    married   \n",
       "1    26711  Female  Missouri   48    1/1/2017                  3    married   \n",
       "2    26711  Female  Missouri   48    1/1/2017                  3    married   \n",
       "3    26711  Female  Missouri   48    1/1/2017                  3    married   \n",
       "4    26711  Female  Missouri   48    1/1/2017                  3    married   \n",
       "\n",
       "   income  product_id product_name  aisle_id  department_id  prices  order_id  \\\n",
       "0  165665         196         Soda        77              7     9.0   2543867   \n",
       "1  165665         196         Soda        77              7     9.0   1285508   \n",
       "2  165665         196         Soda        77              7     9.0   2578584   \n",
       "3  165665        6184  Clementines        32              4     4.3    518967   \n",
       "4  165665        6184  Clementines        32              4     4.3   2524893   \n",
       "\n",
       "   order_number  orders_day_of_week  order_hour_of_day  \\\n",
       "0             5                   1                  9   \n",
       "1             7                   5                 15   \n",
       "2             8                   1                 15   \n",
       "3             1                   2                  9   \n",
       "4             3                   3                 11   \n",
       "\n",
       "   days_since_prior_order  add_to_cart_order  reordered    price_range_loc  \\\n",
       "0                    30.0                  2          0  Mid-range product   \n",
       "1                    11.0                  1          1  Mid-range product   \n",
       "2                    10.0                  2          1  Mid-range product   \n",
       "3                     NaN                  1          0  Low-range product   \n",
       "4                    30.0                  2          1  Low-range product   \n",
       "\n",
       "      Busiest day    Busiest days busiest_period_of_day  max_order  \\\n",
       "0  Regularly busy    Busiest days           Most orders          8   \n",
       "1  Regularly busy  Regularly busy           Most orders          8   \n",
       "2  Regularly busy    Busiest days           Most orders          8   \n",
       "3  Regularly busy  Regularly busy           Most orders          8   \n",
       "4  Regularly busy      Least busy           Most orders          8   \n",
       "\n",
       "   loyalty_flag spender_flag  order_frequency   order_freq_flag  avg_spend  \\\n",
       "0  New customer  Low spender             19.0  Regular customer   7.988889   \n",
       "1  New customer  Low spender             19.0  Regular customer   7.988889   \n",
       "2  New customer  Low spender             19.0  Regular customer   7.988889   \n",
       "3  New customer  Low spender             19.0  Regular customer   7.988889   \n",
       "4  New customer  Low spender             19.0  Regular customer   7.988889   \n",
       "\n",
       "    Region department   age_range income_range parental_status  order_totals  \n",
       "0  Midwest  beverages  Middle-age         High          Parent           NaN  \n",
       "1  Midwest  beverages  Middle-age         High          Parent           NaN  \n",
       "2  Midwest  beverages  Middle-age         High          Parent          91.6  \n",
       "3  Midwest    produce  Middle-age         High          Parent          70.3  \n",
       "4  Midwest    produce  Middle-age         High          Parent          92.8  "
      ]
     },
     "execution_count": 37,
     "metadata": {},
     "output_type": "execute_result"
    }
   ],
   "source": [
    "df.head()"
   ]
  },
  {
   "cell_type": "code",
   "execution_count": 5,
   "id": "0b08d2ab",
   "metadata": {},
   "outputs": [
    {
     "data": {
      "text/plain": [
       "order_hour_of_day\n",
       "0     78.122126\n",
       "1     78.305713\n",
       "2     79.042190\n",
       "3     77.835651\n",
       "4     79.594676\n",
       "5     79.429058\n",
       "6     79.138566\n",
       "7     78.605096\n",
       "8     78.835069\n",
       "9     78.664991\n",
       "10    78.745180\n",
       "11    78.694728\n",
       "12    78.486233\n",
       "13    78.771826\n",
       "14    78.705588\n",
       "15    78.788770\n",
       "16    78.763959\n",
       "17    78.745308\n",
       "18    78.933229\n",
       "19    78.556906\n",
       "20    78.943920\n",
       "21    78.432315\n",
       "22    78.680566\n",
       "23    78.956707\n",
       "Name: order_totals, dtype: float64"
      ]
     },
     "execution_count": 5,
     "metadata": {},
     "output_type": "execute_result"
    }
   ],
   "source": [
    "#Calculate average of order totals by hour of day\n",
    "df.groupby('order_hour_of_day')['order_totals'].mean()"
   ]
  },
  {
   "cell_type": "code",
   "execution_count": 9,
   "id": "4e42c0f2",
   "metadata": {
    "scrolled": false
   },
   "outputs": [
    {
     "data": {
      "text/plain": [
       "(75.0, 80.0)"
      ]
     },
     "execution_count": 9,
     "metadata": {},
     "output_type": "execute_result"
    },
    {
     "data": {
      "image/png": "[encoded data removed]",
      "text/plain": [
       "<Figure size 640x480 with 1 Axes>"
      ]
     },
     "metadata": {},
     "output_type": "display_data"
    }
   ],
   "source": [
    "a = df.groupby('order_hour_of_day')['order_totals'].mean().plot.bar()\n",
    "plt.title('Average Order Totals per Hour of the Day')\n",
    "plt.ylabel('Avg_order_total_$')\n",
    "plt.ylim(75,80)"
   ]
  },
  {
   "cell_type": "code",
   "execution_count": 10,
   "id": "fc972699",
   "metadata": {},
   "outputs": [],
   "source": [
    "#Export bar chart to png\n",
    "a.figure.savefig(os.path.join(path, '04 Analysis', 'Visualizations', 'bar_order_totals_by_hour.png'))"
   ]
  },
  {
   "cell_type": "markdown",
   "id": "3c1d5934",
   "metadata": {},
   "source": [
    "##### Create simple price groupings"
   ]
  },
  {
   "cell_type": "code",
   "execution_count": 53,
   "id": "ec2445de",
   "metadata": {},
   "outputs": [
    {
     "data": {
      "text/plain": [
       "25.0"
      ]
     },
     "execution_count": 53,
     "metadata": {},
     "output_type": "execute_result"
    }
   ],
   "source": [
    "df['prices'].max()"
   ]
  },
  {
   "cell_type": "code",
   "execution_count": 63,
   "id": "34b66cf5",
   "metadata": {},
   "outputs": [
    {
     "data": {
      "text/plain": [
       "Text(0.5, 0, 'Product Price in $')"
      ]
     },
     "execution_count": 63,
     "metadata": {},
     "output_type": "execute_result"
    },
    {
     "data": {
      "image/png": "[encoded data removed]",
      "text/plain": [
       "<Figure size 640x480 with 1 Axes>"
      ]
     },
     "metadata": {},
     "output_type": "display_data"
    }
   ],
   "source": [
    "#Plot price distribution\n",
    "hist = df['prices'].plot.hist(bins = 70)\n",
    "plt.title('Distribution of Product Prices')\n",
    "plt.xlabel('Product Price in $')"
   ]
  },
  {
   "cell_type": "code",
   "execution_count": 64,
   "id": "5bfaa085",
   "metadata": {},
   "outputs": [],
   "source": [
    "#Export histogram to png\n",
    "hist.figure.savefig(os.path.join(path, '04 Analysis', 'Visualizations', 'hist_prices.png'))"
   ]
  },
  {
   "cell_type": "code",
   "execution_count": 68,
   "id": "e878eb59",
   "metadata": {},
   "outputs": [
    {
     "data": {
      "text/plain": [
       "Text(0.5, 1.0, 'Frequency of Product Price Ranges')"
      ]
     },
     "execution_count": 68,
     "metadata": {},
     "output_type": "execute_result"
    },
    {
     "data": {
      "image/png": "[encoded data removed]",
      "text/plain": [
       "<Figure size 640x480 with 1 Axes>"
      ]
     },
     "metadata": {},
     "output_type": "display_data"
    }
   ],
   "source": [
    "#Create bar chart for price ranges\n",
    "b = df['price_range_loc'].value_counts().plot.bar()\n",
    "plt.xticks(rotation = 0)\n",
    "plt.title('Frequency of Product Price Ranges')"
   ]
  },
  {
   "cell_type": "code",
   "execution_count": 69,
   "id": "88da48e0",
   "metadata": {},
   "outputs": [],
   "source": [
    "#Export bar to png\n",
    "b.figure.savefig(os.path.join(path, '04 Analysis', 'Visualizations', 'bar_price_range.png'))"
   ]
  },
  {
   "cell_type": "markdown",
   "id": "286e8d7b",
   "metadata": {},
   "source": [
    "##### Further analysis of customer profiles and their spending habits"
   ]
  },
  {
   "cell_type": "code",
   "execution_count": 75,
   "id": "3e6d7382",
   "metadata": {},
   "outputs": [
    {
     "data": {
      "text/html": [
       "<div>\n",
       "<style scoped>\n",
       "    .dataframe tbody tr th:only-of-type {\n",
       "        vertical-align: middle;\n",
       "    }\n",
       "\n",
       "    .dataframe tbody tr th {\n",
       "        vertical-align: top;\n",
       "    }\n",
       "\n",
       "    .dataframe thead tr th {\n",
       "        text-align: left;\n",
       "    }\n",
       "\n",
       "    .dataframe thead tr:last-of-type th {\n",
       "        text-align: right;\n",
       "    }\n",
       "</style>\n",
       "<table border=\"1\" class=\"dataframe\">\n",
       "  <thead>\n",
       "    <tr>\n",
       "      <th></th>\n",
       "      <th colspan=\"3\" halign=\"left\">order_totals</th>\n",
       "    </tr>\n",
       "    <tr>\n",
       "      <th></th>\n",
       "      <th>mean</th>\n",
       "      <th>min</th>\n",
       "      <th>max</th>\n",
       "    </tr>\n",
       "    <tr>\n",
       "      <th>income_range</th>\n",
       "      <th></th>\n",
       "      <th></th>\n",
       "      <th></th>\n",
       "    </tr>\n",
       "  </thead>\n",
       "  <tbody>\n",
       "    <tr>\n",
       "      <th>High</th>\n",
       "      <td>78.524976</td>\n",
       "      <td>0.0</td>\n",
       "      <td>751.1</td>\n",
       "    </tr>\n",
       "    <tr>\n",
       "      <th>High average</th>\n",
       "      <td>78.743180</td>\n",
       "      <td>0.0</td>\n",
       "      <td>852.5</td>\n",
       "    </tr>\n",
       "    <tr>\n",
       "      <th>Low</th>\n",
       "      <td>78.657496</td>\n",
       "      <td>0.0</td>\n",
       "      <td>1092.2</td>\n",
       "    </tr>\n",
       "    <tr>\n",
       "      <th>Low average</th>\n",
       "      <td>78.776730</td>\n",
       "      <td>0.0</td>\n",
       "      <td>1047.4</td>\n",
       "    </tr>\n",
       "  </tbody>\n",
       "</table>\n",
       "</div>"
      ],
      "text/plain": [
       "             order_totals             \n",
       "                     mean  min     max\n",
       "income_range                          \n",
       "High            78.524976  0.0   751.1\n",
       "High average    78.743180  0.0   852.5\n",
       "Low             78.657496  0.0  1092.2\n",
       "Low average     78.776730  0.0  1047.4"
      ]
     },
     "execution_count": 75,
     "metadata": {},
     "output_type": "execute_result"
    }
   ],
   "source": [
    "# Compare min, max, and mean of order totals by income range\n",
    "df.groupby('income_range').agg({'order_totals': ['mean', 'min', 'max']})"
   ]
  },
  {
   "cell_type": "code",
   "execution_count": 79,
   "id": "a09b054f",
   "metadata": {},
   "outputs": [
    {
     "data": {
      "text/plain": [
       "Text(0, 0.5, 'Total Order Amounts in $')"
      ]
     },
     "execution_count": 79,
     "metadata": {},
     "output_type": "execute_result"
    },
    {
     "data": {
      "image/png": "[encoded data removed]",
      "text/plain": [
       "<Figure size 640x480 with 1 Axes>"
      ]
     },
     "metadata": {},
     "output_type": "display_data"
    }
   ],
   "source": [
    "#Create bar\n",
    "c = df.groupby('income_range').agg({'order_totals': ['mean', 'max']}).plot.bar()\n",
    "plt.title('Order Amounts by Income Range')\n",
    "plt.xticks(rotation = 0)\n",
    "plt.ylabel('Total Order Amounts in $')"
   ]
  },
  {
   "cell_type": "code",
   "execution_count": 80,
   "id": "74875116",
   "metadata": {},
   "outputs": [],
   "source": [
    "#Export bar to png\n",
    "c.figure.savefig(os.path.join(path, '04 Analysis', 'Visualizations', 'bar_order_totals_income.png'))"
   ]
  },
  {
   "cell_type": "code",
   "execution_count": 81,
   "id": "61e7b807",
   "metadata": {},
   "outputs": [
    {
     "name": "stderr",
     "output_type": "stream",
     "text": [
      "C:\\Users\\cschm\\AppData\\Local\\Temp\\ipykernel_9072\\2821065025.py:2: FutureWarning: The default of observed=False is deprecated and will be changed to True in a future version of pandas. Pass observed=False to retain current behavior or observed=True to adopt the future default and silence this warning.\n",
      "  df.groupby('fam_status').agg({'order_totals': ['mean', 'max']})\n"
     ]
    },
    {
     "data": {
      "text/html": [
       "<div>\n",
       "<style scoped>\n",
       "    .dataframe tbody tr th:only-of-type {\n",
       "        vertical-align: middle;\n",
       "    }\n",
       "\n",
       "    .dataframe tbody tr th {\n",
       "        vertical-align: top;\n",
       "    }\n",
       "\n",
       "    .dataframe thead tr th {\n",
       "        text-align: left;\n",
       "    }\n",
       "\n",
       "    .dataframe thead tr:last-of-type th {\n",
       "        text-align: right;\n",
       "    }\n",
       "</style>\n",
       "<table border=\"1\" class=\"dataframe\">\n",
       "  <thead>\n",
       "    <tr>\n",
       "      <th></th>\n",
       "      <th colspan=\"2\" halign=\"left\">order_totals</th>\n",
       "    </tr>\n",
       "    <tr>\n",
       "      <th></th>\n",
       "      <th>mean</th>\n",
       "      <th>max</th>\n",
       "    </tr>\n",
       "    <tr>\n",
       "      <th>fam_status</th>\n",
       "      <th></th>\n",
       "      <th></th>\n",
       "    </tr>\n",
       "  </thead>\n",
       "  <tbody>\n",
       "    <tr>\n",
       "      <th>divorced/widowed</th>\n",
       "      <td>78.808156</td>\n",
       "      <td>842.1</td>\n",
       "    </tr>\n",
       "    <tr>\n",
       "      <th>living with parents and siblings</th>\n",
       "      <td>78.856475</td>\n",
       "      <td>712.0</td>\n",
       "    </tr>\n",
       "    <tr>\n",
       "      <th>married</th>\n",
       "      <td>78.688749</td>\n",
       "      <td>1092.2</td>\n",
       "    </tr>\n",
       "    <tr>\n",
       "      <th>single</th>\n",
       "      <td>78.778039</td>\n",
       "      <td>846.1</td>\n",
       "    </tr>\n",
       "  </tbody>\n",
       "</table>\n",
       "</div>"
      ],
      "text/plain": [
       "                                 order_totals        \n",
       "                                         mean     max\n",
       "fam_status                                           \n",
       "divorced/widowed                    78.808156   842.1\n",
       "living with parents and siblings    78.856475   712.0\n",
       "married                             78.688749  1092.2\n",
       "single                              78.778039   846.1"
      ]
     },
     "execution_count": 81,
     "metadata": {},
     "output_type": "execute_result"
    }
   ],
   "source": [
    "# Compare max and mean of order totals by family status\n",
    "df.groupby('fam_status').agg({'order_totals': ['mean', 'max']})"
   ]
  },
  {
   "cell_type": "code",
   "execution_count": 83,
   "id": "34c0add4",
   "metadata": {},
   "outputs": [
    {
     "name": "stderr",
     "output_type": "stream",
     "text": [
      "C:\\Users\\cschm\\AppData\\Local\\Temp\\ipykernel_9072\\979251787.py:2: FutureWarning: The default of observed=False is deprecated and will be changed to True in a future version of pandas. Pass observed=False to retain current behavior or observed=True to adopt the future default and silence this warning.\n",
      "  d = df.groupby('fam_status').agg({'order_totals': ['mean', 'max']}).plot.bar()\n"
     ]
    },
    {
     "data": {
      "text/plain": [
       "Text(0, 0.5, 'Total Order Amounts in $')"
      ]
     },
     "execution_count": 83,
     "metadata": {},
     "output_type": "execute_result"
    },
    {
     "data": {
      "image/png": "[encoded data removed]",
      "text/plain": [
       "<Figure size 640x480 with 1 Axes>"
      ]
     },
     "metadata": {},
     "output_type": "display_data"
    }
   ],
   "source": [
    "#Create bar\n",
    "d = df.groupby('fam_status').agg({'order_totals': ['mean', 'max']}).plot.bar()\n",
    "plt.title('Order Amounts by Family Status')\n",
    "plt.xticks(rotation = 45)\n",
    "plt.ylabel('Total Order Amounts in $')"
   ]
  },
  {
   "cell_type": "code",
   "execution_count": 84,
   "id": "5c9ce297",
   "metadata": {},
   "outputs": [],
   "source": [
    "#Export bar to png\n",
    "d.figure.savefig(os.path.join(path, '04 Analysis', 'Visualizations', 'bar_order_totals_family_status.png'))"
   ]
  },
  {
   "cell_type": "code",
   "execution_count": 8,
   "id": "a45e1d87",
   "metadata": {},
   "outputs": [],
   "source": [
    "#Export df to close notebook\n",
    "df.to_pickle(os.path.join(path, '02 Data', 'Prepared Data', 'orders_products_customers_active.pkl'))"
   ]
  },
  {
   "cell_type": "code",
   "execution_count": null,
   "id": "3eac99b1",
   "metadata": {},
   "outputs": [],
   "source": []
  }
 ],
 "metadata": {
  "kernelspec": {
   "display_name": "Python 3 (ipykernel)",
   "language": "python",
   "name": "python3"
  },
  "language_info": {
   "codemirror_mode": {
    "name": "ipython",
    "version": 3
   },
   "file_extension": ".py",
   "mimetype": "text/x-python",
   "name": "python",
   "nbconvert_exporter": "python",
   "pygments_lexer": "ipython3",
   "version": "3.11.5"
  }
 },
 "nbformat": 4,
 "nbformat_minor": 5
}
