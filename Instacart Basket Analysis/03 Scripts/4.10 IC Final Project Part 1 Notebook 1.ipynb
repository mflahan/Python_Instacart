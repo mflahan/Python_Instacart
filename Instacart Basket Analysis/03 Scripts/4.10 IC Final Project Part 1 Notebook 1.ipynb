{
 "cells": [
  {
   "cell_type": "markdown",
   "id": "64d79f59",
   "metadata": {},
   "source": [
    "# 4.10 Instacart Final Project Part 1"
   ]
  },
  {
   "cell_type": "markdown",
   "id": "7cc3a7b4",
   "metadata": {},
   "source": [
    "# Table of contents\n",
    "#### Import Libraries\n",
    "#### Import 'orders_products_customers_merged' dataset\n",
    "#### Manage security implications\n",
    "#### Create Region variable based on states\n",
    "#### Determine difference in spending habits by region\n",
    "#### Create bar chart visualizing spending difference by region"
   ]
  },
  {
   "cell_type": "code",
   "execution_count": 2,
   "id": "d73c9f94",
   "metadata": {},
   "outputs": [],
   "source": [
    "#Import libraries\n",
    "import pandas as pd\n",
    "import numpy as np\n",
    "import os\n",
    "import matplotlib.pyplot as plt\n",
    "import seaborn as sns\n",
    "import scipy"
   ]
  },
  {
   "cell_type": "code",
   "execution_count": 3,
   "id": "6c33aa6b",
   "metadata": {},
   "outputs": [],
   "source": [
    "#Define path\n",
    "path = r'C:\\Users\\cschm\\Desktop\\CareerFoundry\\Instacart Basket Analysis'"
   ]
  },
  {
   "cell_type": "code",
   "execution_count": 4,
   "id": "c74a1eb2",
   "metadata": {},
   "outputs": [],
   "source": [
    "#Import orders_products_customers data\n",
    "ords_prods_cust = pd.read_pickle(os.path.join(path, '02 Data', 'Prepared Data', 'orders_products_customers_merged.pkl'))"
   ]
  },
  {
   "cell_type": "code",
   "execution_count": 5,
   "id": "246cf82a",
   "metadata": {},
   "outputs": [
    {
     "data": {
      "text/plain": [
       "(32404859, 33)"
      ]
     },
     "execution_count": 5,
     "metadata": {},
     "output_type": "execute_result"
    }
   ],
   "source": [
    "#Check shape of dataset\n",
    "ords_prods_cust.shape"
   ]
  },
  {
   "cell_type": "code",
   "execution_count": 6,
   "id": "58ffb1e2",
   "metadata": {},
   "outputs": [
    {
     "data": {
      "text/html": [
       "<div>\n",
       "<style scoped>\n",
       "    .dataframe tbody tr th:only-of-type {\n",
       "        vertical-align: middle;\n",
       "    }\n",
       "\n",
       "    .dataframe tbody tr th {\n",
       "        vertical-align: top;\n",
       "    }\n",
       "\n",
       "    .dataframe thead th {\n",
       "        text-align: right;\n",
       "    }\n",
       "</style>\n",
       "<table border=\"1\" class=\"dataframe\">\n",
       "  <thead>\n",
       "    <tr style=\"text-align: right;\">\n",
       "      <th></th>\n",
       "      <th>user_id</th>\n",
       "      <th>First Name</th>\n",
       "      <th>Last Name</th>\n",
       "      <th>Gender</th>\n",
       "      <th>STATE</th>\n",
       "      <th>Age</th>\n",
       "      <th>date_joined</th>\n",
       "      <th>number_dependants</th>\n",
       "      <th>fam_status</th>\n",
       "      <th>income</th>\n",
       "      <th>...</th>\n",
       "      <th>Busiest day</th>\n",
       "      <th>Busiest days</th>\n",
       "      <th>busiest_period_of_day</th>\n",
       "      <th>max_order</th>\n",
       "      <th>loyalty_flag</th>\n",
       "      <th>spender_flag</th>\n",
       "      <th>order_frequency</th>\n",
       "      <th>order_freq_flag</th>\n",
       "      <th>avg_spend</th>\n",
       "      <th>_merge</th>\n",
       "    </tr>\n",
       "  </thead>\n",
       "  <tbody>\n",
       "    <tr>\n",
       "      <th>0</th>\n",
       "      <td>26711</td>\n",
       "      <td>Deborah</td>\n",
       "      <td>Esquivel</td>\n",
       "      <td>Female</td>\n",
       "      <td>Missouri</td>\n",
       "      <td>48</td>\n",
       "      <td>1/1/2017</td>\n",
       "      <td>3</td>\n",
       "      <td>married</td>\n",
       "      <td>165665</td>\n",
       "      <td>...</td>\n",
       "      <td>Regularly busy</td>\n",
       "      <td>Busiest days</td>\n",
       "      <td>Most orders</td>\n",
       "      <td>8</td>\n",
       "      <td>New customer</td>\n",
       "      <td>Low spender</td>\n",
       "      <td>19.0</td>\n",
       "      <td>Regular customer</td>\n",
       "      <td>7.988889</td>\n",
       "      <td>both</td>\n",
       "    </tr>\n",
       "    <tr>\n",
       "      <th>1</th>\n",
       "      <td>26711</td>\n",
       "      <td>Deborah</td>\n",
       "      <td>Esquivel</td>\n",
       "      <td>Female</td>\n",
       "      <td>Missouri</td>\n",
       "      <td>48</td>\n",
       "      <td>1/1/2017</td>\n",
       "      <td>3</td>\n",
       "      <td>married</td>\n",
       "      <td>165665</td>\n",
       "      <td>...</td>\n",
       "      <td>Regularly busy</td>\n",
       "      <td>Regularly busy</td>\n",
       "      <td>Most orders</td>\n",
       "      <td>8</td>\n",
       "      <td>New customer</td>\n",
       "      <td>Low spender</td>\n",
       "      <td>19.0</td>\n",
       "      <td>Regular customer</td>\n",
       "      <td>7.988889</td>\n",
       "      <td>both</td>\n",
       "    </tr>\n",
       "    <tr>\n",
       "      <th>2</th>\n",
       "      <td>26711</td>\n",
       "      <td>Deborah</td>\n",
       "      <td>Esquivel</td>\n",
       "      <td>Female</td>\n",
       "      <td>Missouri</td>\n",
       "      <td>48</td>\n",
       "      <td>1/1/2017</td>\n",
       "      <td>3</td>\n",
       "      <td>married</td>\n",
       "      <td>165665</td>\n",
       "      <td>...</td>\n",
       "      <td>Regularly busy</td>\n",
       "      <td>Busiest days</td>\n",
       "      <td>Most orders</td>\n",
       "      <td>8</td>\n",
       "      <td>New customer</td>\n",
       "      <td>Low spender</td>\n",
       "      <td>19.0</td>\n",
       "      <td>Regular customer</td>\n",
       "      <td>7.988889</td>\n",
       "      <td>both</td>\n",
       "    </tr>\n",
       "    <tr>\n",
       "      <th>3</th>\n",
       "      <td>26711</td>\n",
       "      <td>Deborah</td>\n",
       "      <td>Esquivel</td>\n",
       "      <td>Female</td>\n",
       "      <td>Missouri</td>\n",
       "      <td>48</td>\n",
       "      <td>1/1/2017</td>\n",
       "      <td>3</td>\n",
       "      <td>married</td>\n",
       "      <td>165665</td>\n",
       "      <td>...</td>\n",
       "      <td>Regularly busy</td>\n",
       "      <td>Regularly busy</td>\n",
       "      <td>Most orders</td>\n",
       "      <td>8</td>\n",
       "      <td>New customer</td>\n",
       "      <td>Low spender</td>\n",
       "      <td>19.0</td>\n",
       "      <td>Regular customer</td>\n",
       "      <td>7.988889</td>\n",
       "      <td>both</td>\n",
       "    </tr>\n",
       "    <tr>\n",
       "      <th>4</th>\n",
       "      <td>26711</td>\n",
       "      <td>Deborah</td>\n",
       "      <td>Esquivel</td>\n",
       "      <td>Female</td>\n",
       "      <td>Missouri</td>\n",
       "      <td>48</td>\n",
       "      <td>1/1/2017</td>\n",
       "      <td>3</td>\n",
       "      <td>married</td>\n",
       "      <td>165665</td>\n",
       "      <td>...</td>\n",
       "      <td>Regularly busy</td>\n",
       "      <td>Least busy</td>\n",
       "      <td>Most orders</td>\n",
       "      <td>8</td>\n",
       "      <td>New customer</td>\n",
       "      <td>Low spender</td>\n",
       "      <td>19.0</td>\n",
       "      <td>Regular customer</td>\n",
       "      <td>7.988889</td>\n",
       "      <td>both</td>\n",
       "    </tr>\n",
       "  </tbody>\n",
       "</table>\n",
       "<p>5 rows × 33 columns</p>\n",
       "</div>"
      ],
      "text/plain": [
       "   user_id First Name Last Name  Gender     STATE  Age date_joined  \\\n",
       "0    26711    Deborah  Esquivel  Female  Missouri   48    1/1/2017   \n",
       "1    26711    Deborah  Esquivel  Female  Missouri   48    1/1/2017   \n",
       "2    26711    Deborah  Esquivel  Female  Missouri   48    1/1/2017   \n",
       "3    26711    Deborah  Esquivel  Female  Missouri   48    1/1/2017   \n",
       "4    26711    Deborah  Esquivel  Female  Missouri   48    1/1/2017   \n",
       "\n",
       "   number_dependants fam_status  income  ...     Busiest day    Busiest days  \\\n",
       "0                  3    married  165665  ...  Regularly busy    Busiest days   \n",
       "1                  3    married  165665  ...  Regularly busy  Regularly busy   \n",
       "2                  3    married  165665  ...  Regularly busy    Busiest days   \n",
       "3                  3    married  165665  ...  Regularly busy  Regularly busy   \n",
       "4                  3    married  165665  ...  Regularly busy      Least busy   \n",
       "\n",
       "   busiest_period_of_day  max_order  loyalty_flag  spender_flag  \\\n",
       "0            Most orders          8  New customer   Low spender   \n",
       "1            Most orders          8  New customer   Low spender   \n",
       "2            Most orders          8  New customer   Low spender   \n",
       "3            Most orders          8  New customer   Low spender   \n",
       "4            Most orders          8  New customer   Low spender   \n",
       "\n",
       "   order_frequency   order_freq_flag  avg_spend  _merge  \n",
       "0             19.0  Regular customer   7.988889    both  \n",
       "1             19.0  Regular customer   7.988889    both  \n",
       "2             19.0  Regular customer   7.988889    both  \n",
       "3             19.0  Regular customer   7.988889    both  \n",
       "4             19.0  Regular customer   7.988889    both  \n",
       "\n",
       "[5 rows x 33 columns]"
      ]
     },
     "execution_count": 6,
     "metadata": {},
     "output_type": "execute_result"
    }
   ],
   "source": [
    "#Check variables and values of dataset\n",
    "ords_prods_cust.head()"
   ]
  },
  {
   "cell_type": "markdown",
   "id": "11301a86",
   "metadata": {},
   "source": [
    "#### Consider any security implications that may exist for this data."
   ]
  },
  {
   "cell_type": "code",
   "execution_count": 7,
   "id": "b8527f66",
   "metadata": {},
   "outputs": [],
   "source": [
    "#Drop First name and Last name columns since they identify users but are not needed for this analysis. Also drop _merge as it is not needed\n",
    "ords_prods_cust = ords_prods_cust.drop(columns = ['First Name', 'Last Name', '_merge'])"
   ]
  },
  {
   "cell_type": "code",
   "execution_count": 8,
   "id": "4e44c470",
   "metadata": {},
   "outputs": [
    {
     "data": {
      "text/plain": [
       "Index(['user_id', 'Gender', 'STATE', 'Age', 'date_joined', 'number_dependants',\n",
       "       'fam_status', 'income', 'product_id', 'product_name', 'aisle_id',\n",
       "       'department_id', 'prices', 'order_id', 'order_number',\n",
       "       'orders_day_of_week', 'order_hour_of_day', 'days_since_prior_order',\n",
       "       'add_to_cart_order', 'reordered', 'price_range_loc', 'Busiest day',\n",
       "       'Busiest days', 'busiest_period_of_day', 'max_order', 'loyalty_flag',\n",
       "       'spender_flag', 'order_frequency', 'order_freq_flag', 'avg_spend'],\n",
       "      dtype='object')"
      ]
     },
     "execution_count": 8,
     "metadata": {},
     "output_type": "execute_result"
    }
   ],
   "source": [
    "#Check column names\n",
    "ords_prods_cust.columns"
   ]
  },
  {
   "cell_type": "markdown",
   "id": "d51ff64d",
   "metadata": {},
   "source": [
    "#### Create a regional segmentation of the data. You’ll need to create a “Region” column based on the “State” column from your customers data set."
   ]
  },
  {
   "cell_type": "code",
   "execution_count": 9,
   "id": "034539c9",
   "metadata": {},
   "outputs": [],
   "source": [
    "#Creating Region variable based on states via in loop\n",
    "result = []\n",
    "\n",
    "for value in ords_prods_cust['STATE']:\n",
    "  if value in ['Maine', 'New Hampshire', 'Vermont', 'Massachusetts', 'Rhode Island', 'Connecticut', 'New York', 'Pennsylvania', 'New Jersey']:\n",
    "    result.append('Northeast')\n",
    "  elif value in ['Wisconsin', 'Michigan', 'Illinois', 'Indiana', 'Ohio', 'North Dakota', 'South Dakota', 'Nebraska', 'Kansas', 'Minnesota', 'Iowa', 'Missouri']:\n",
    "    result.append('Midwest')\n",
    "  elif value in ['Delaware', 'Maryland', 'District of Columbia', 'Virginia', 'West Virginia', 'North Carolina', 'South Carolina', 'Georgia', 'Florida', 'Kentucky', 'Tennessee', 'Mississippi', 'Alabama', 'Oklahoma', 'Texas', 'Arkansas', 'Louisiana']:\n",
    "    result.append('South')\n",
    "  elif value in ['Idaho', 'Montana', 'Wyoming', 'Nevada', 'Utah', 'Colorado', 'Arizona', 'New Mexico', 'Alaska', 'Washington', 'Oregon', 'California', 'Hawaii']:\n",
    "    result.append('West')\n",
    "  else:\n",
    "    result.append('NaN')"
   ]
  },
  {
   "cell_type": "code",
   "execution_count": 10,
   "id": "c1c23c09",
   "metadata": {},
   "outputs": [],
   "source": [
    "ords_prods_cust['Region'] = result"
   ]
  },
  {
   "cell_type": "code",
   "execution_count": 11,
   "id": "b6f9653c",
   "metadata": {},
   "outputs": [
    {
     "data": {
      "text/plain": [
       "Region\n",
       "South        10791885\n",
       "West          8292913\n",
       "Midwest       7597325\n",
       "Northeast     5722736\n",
       "Name: count, dtype: int64"
      ]
     },
     "execution_count": 11,
     "metadata": {},
     "output_type": "execute_result"
    }
   ],
   "source": [
    "#Check frequency of Regions variable\n",
    "ords_prods_cust['Region'].value_counts(dropna = False)"
   ]
  },
  {
   "cell_type": "code",
   "execution_count": 12,
   "id": "4d33bf59",
   "metadata": {},
   "outputs": [
    {
     "data": {
      "text/plain": [
       "32404859"
      ]
     },
     "execution_count": 12,
     "metadata": {},
     "output_type": "execute_result"
    }
   ],
   "source": [
    "#Sum of region totals should equal 32404859, which it does.\n",
    "10791885 + 8292913 +7597325 + 5722736"
   ]
  },
  {
   "cell_type": "markdown",
   "id": "25057c2c",
   "metadata": {},
   "source": [
    "#### Determine whether there’s a difference in spending habits between the different U.S. regions."
   ]
  },
  {
   "cell_type": "code",
   "execution_count": 13,
   "id": "3429ee37",
   "metadata": {},
   "outputs": [],
   "source": [
    "#Grouping regions by spender flag\n",
    "crosstab = pd.crosstab(ords_prods_cust['Region'], ords_prods_cust['spender_flag'], dropna = False)"
   ]
  },
  {
   "cell_type": "code",
   "execution_count": 14,
   "id": "f67dc772",
   "metadata": {},
   "outputs": [
    {
     "name": "stdout",
     "output_type": "stream",
     "text": [
      "spender_flag  High spender  Low spender\n",
      "Region                                 \n",
      "Midwest             155975      7441350\n",
      "Northeast           108225      5614511\n",
      "South               209691     10582194\n",
      "West                160354      8132559\n"
     ]
    }
   ],
   "source": [
    "print(crosstab)"
   ]
  },
  {
   "cell_type": "code",
   "execution_count": 15,
   "id": "f82e85cb",
   "metadata": {},
   "outputs": [],
   "source": [
    "#Creating percentage for spender type for all regions\n",
    "percentage_result = crosstab.div(crosstab.sum(axis=1), axis=0) * 100"
   ]
  },
  {
   "cell_type": "code",
   "execution_count": 16,
   "id": "116ebc55",
   "metadata": {},
   "outputs": [
    {
     "name": "stdout",
     "output_type": "stream",
     "text": [
      "spender_flag  High spender  Low spender\n",
      "Region                                 \n",
      "Midwest           2.053025    97.946975\n",
      "Northeast         1.891141    98.108859\n",
      "South             1.943043    98.056957\n",
      "West              1.933627    98.066373\n"
     ]
    }
   ],
   "source": [
    "print(percentage_result)"
   ]
  },
  {
   "cell_type": "code",
   "execution_count": 17,
   "id": "5ebb019b",
   "metadata": {},
   "outputs": [
    {
     "data": {
      "text/plain": [
       "(array([0, 1, 2, 3]),\n",
       " [Text(0, 0, 'Midwest'),\n",
       "  Text(1, 0, 'Northeast'),\n",
       "  Text(2, 0, 'South'),\n",
       "  Text(3, 0, 'West')])"
      ]
     },
     "execution_count": 17,
     "metadata": {},
     "output_type": "execute_result"
    },
    {
     "data": {
      "image/png": "[encoded data removed]",
      "text/plain": [
       "<Figure size 640x480 with 1 Axes>"
      ]
     },
     "metadata": {},
     "output_type": "display_data"
    }
   ],
   "source": [
    "#Create stacked bar chart of spending percentages per region\n",
    "percentage_result.plot.bar(stacked = True, color = ['g', 'r'])\n",
    "plt.ylabel('Percentage')\n",
    "plt.legend(['High Spender', 'Low Spender'])\n",
    "plt.title('Customer Spending Percentages by Region')\n",
    "plt.xticks(rotation = 0, ha = 'center')"
   ]
  },
  {
   "cell_type": "code",
   "execution_count": 18,
   "id": "3b5c5635",
   "metadata": {},
   "outputs": [
    {
     "ename": "NameError",
     "evalue": "name 'bar' is not defined",
     "output_type": "error",
     "traceback": [
      "\u001b[1;31m---------------------------------------------------------------------------\u001b[0m",
      "\u001b[1;31mNameError\u001b[0m                                 Traceback (most recent call last)",
      "Cell \u001b[1;32mIn[18], line 2\u001b[0m\n\u001b[0;32m      1\u001b[0m \u001b[38;5;66;03m#Export bar chart as png\u001b[39;00m\n\u001b[1;32m----> 2\u001b[0m bar\u001b[38;5;241m.\u001b[39mfigure\u001b[38;5;241m.\u001b[39msavefig(os\u001b[38;5;241m.\u001b[39mpath\u001b[38;5;241m.\u001b[39mjoin(path, \u001b[38;5;124m'\u001b[39m\u001b[38;5;124m04 Analysis\u001b[39m\u001b[38;5;124m'\u001b[39m,\u001b[38;5;124m'\u001b[39m\u001b[38;5;124mVisualizations\u001b[39m\u001b[38;5;124m'\u001b[39m, \u001b[38;5;124m'\u001b[39m\u001b[38;5;124mbar_spending_percentage.png\u001b[39m\u001b[38;5;124m'\u001b[39m))\n",
      "\u001b[1;31mNameError\u001b[0m: name 'bar' is not defined"
     ]
    }
   ],
   "source": [
    "#Export bar chart as png\n",
    "bar.figure.savefig(os.path.join(path, '04 Analysis','Visualizations', 'bar_spending_percentage.png'))"
   ]
  },
  {
   "cell_type": "code",
   "execution_count": 19,
   "id": "a539d95b",
   "metadata": {},
   "outputs": [],
   "source": [
    "#Export df as pickle to continue in new notebook per memory issues\n",
    "ords_prods_cust.to_pickle(os.path.join(path, '02 Data', 'Prepared Data', 'orders_products_customers_merged.pkl'))"
   ]
  },
  {
   "cell_type": "code",
   "execution_count": null,
   "id": "90a8764e",
   "metadata": {},
   "outputs": [],
   "source": []
  }
 ],
 "metadata": {
  "kernelspec": {
   "display_name": "Python 3 (ipykernel)",
   "language": "python",
   "name": "python3"
  },
  "language_info": {
   "codemirror_mode": {
    "name": "ipython",
    "version": 3
   },
   "file_extension": ".py",
   "mimetype": "text/x-python",
   "name": "python",
   "nbconvert_exporter": "python",
   "pygments_lexer": "ipython3",
   "version": "3.11.5"
  }
 },
 "nbformat": 4,
 "nbformat_minor": 5
}
